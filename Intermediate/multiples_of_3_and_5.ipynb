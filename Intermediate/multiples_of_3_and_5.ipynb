{
 "cells": [
  {
   "cell_type": "markdown",
   "metadata": {},
   "source": [
    "## Multiples of 3 and 5\n",
    "\n",
    "If we list all the natural numbers below 10 that are multiples of 3 or 5, we get 3, 5, 6 and 9. The sum of these multiples is 23.\n",
    "\n",
    "Finish the solution so that it returns the sum of all the multiples of 3 or 5 below the number passed in.\n",
    "\n",
    "Additionally, if the number is negative, return 0.\n",
    "\n",
    "Note: If the number is a multiple of both 3 and 5, only count it once."
   ]
  },
  {
   "cell_type": "code",
   "execution_count": 1,
   "metadata": {},
   "outputs": [],
   "source": [
    "def solution(number):\n",
    "    if number < 0:\n",
    "        return 0\n",
    "    \n",
    "    '''So this works as the for loop uses the range of the supplied number. This then check to see if each number is divisible by 3 or by 5. If it is either, it is added to the list.\n",
    "    Finally the list is summed and then given as an output to the function'''\n",
    "\n",
    "    return sum(x for x in range(number) if x % 3 == 0 or x % 5 ==0)"
   ]
  },
  {
   "cell_type": "code",
   "execution_count": 2,
   "metadata": {},
   "outputs": [
    {
     "data": {
      "text/plain": [
       "543"
      ]
     },
     "execution_count": 2,
     "metadata": {},
     "output_type": "execute_result"
    }
   ],
   "source": [
    "solution(50)"
   ]
  },
  {
   "cell_type": "code",
   "execution_count": 4,
   "metadata": {},
   "outputs": [
    {
     "name": "stdout",
     "output_type": "stream",
     "text": [
      "The random value is 93\n",
      " The sum of all multiples of 3 or 5 of the value is  1935\n",
      "The random value is 4\n",
      " The sum of all multiples of 3 or 5 of the value is  3\n",
      "The random value is 63\n",
      " The sum of all multiples of 3 or 5 of the value is  870\n",
      "The random value is 67\n",
      " The sum of all multiples of 3 or 5 of the value is  1064\n",
      "The random value is 87\n",
      " The sum of all multiples of 3 or 5 of the value is  1758\n",
      "The random value is 12\n",
      " The sum of all multiples of 3 or 5 of the value is  33\n",
      "The random value is 33\n",
      " The sum of all multiples of 3 or 5 of the value is  225\n",
      "The random value is 43\n",
      " The sum of all multiples of 3 or 5 of the value is  450\n",
      "The random value is 46\n",
      " The sum of all multiples of 3 or 5 of the value is  495\n",
      "The random value is 32\n",
      " The sum of all multiples of 3 or 5 of the value is  225\n"
     ]
    }
   ],
   "source": [
    "import random\n",
    "\n",
    "values = random.sample(range(1,101),10)\n",
    "\n",
    "for x in values:\n",
    "    print(f'The random value is {x}')\n",
    "    print(' The sum of all multiples of 3 or 5 of the value is ', solution(x))\n"
   ]
  },
  {
   "cell_type": "code",
   "execution_count": null,
   "metadata": {},
   "outputs": [],
   "source": []
  }
 ],
 "metadata": {
  "kernelspec": {
   "display_name": "base",
   "language": "python",
   "name": "python3"
  },
  "language_info": {
   "codemirror_mode": {
    "name": "ipython",
    "version": 3
   },
   "file_extension": ".py",
   "mimetype": "text/x-python",
   "name": "python",
   "nbconvert_exporter": "python",
   "pygments_lexer": "ipython3",
   "version": "3.11.7"
  }
 },
 "nbformat": 4,
 "nbformat_minor": 2
}
