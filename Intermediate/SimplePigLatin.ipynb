{
 "cells": [
  {
   "cell_type": "markdown",
   "metadata": {},
   "source": [
    "Move the first letter of each word to the end of it, then add \"ay\" to the end of the word. Leave punctuation marks untouched."
   ]
  },
  {
   "cell_type": "code",
   "execution_count": 20,
   "metadata": {},
   "outputs": [
    {
     "data": {
      "text/plain": [
       "'hatWay siay oinggay noay !'"
      ]
     },
     "execution_count": 20,
     "metadata": {},
     "output_type": "execute_result"
    }
   ],
   "source": [
    "text = 'Hello world !'\n",
    "def pig_it(text):\n",
    "    \n",
    "    punctuation = \"!?\"\n",
    "    words = text.split(' ')\n",
    "\n",
    "    new_words = []\n",
    "\n",
    "    for word in words:\n",
    "        if word in punctuation:\n",
    "            new_words.append(word)\n",
    "        else:\n",
    "            new_words.append(word[1:]+word[0]+'ay')\n",
    "\n",
    "\n",
    "    return \" \".join(new_words)\n",
    "    \n",
    "pig_it('What is going on !')\n",
    "\n"
   ]
  },
  {
   "cell_type": "code",
   "execution_count": null,
   "metadata": {},
   "outputs": [],
   "source": []
  }
 ],
 "metadata": {
  "kernelspec": {
   "display_name": "base",
   "language": "python",
   "name": "python3"
  },
  "language_info": {
   "codemirror_mode": {
    "name": "ipython",
    "version": 3
   },
   "file_extension": ".py",
   "mimetype": "text/x-python",
   "name": "python",
   "nbconvert_exporter": "python",
   "pygments_lexer": "ipython3",
   "version": "3.11.7"
  }
 },
 "nbformat": 4,
 "nbformat_minor": 2
}
