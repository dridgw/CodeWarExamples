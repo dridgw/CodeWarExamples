{
 "cells": [
  {
   "cell_type": "markdown",
   "metadata": {},
   "source": [
    "## Roman Numeral Encoder\n",
    "\n",
    "Create a function taking a positive integer between 1 and 3999 (both included) as its parameter and returning a string containing the Roman Numeral representation of that integer.\n",
    "\n",
    "Modern Roman numerals are written by expressing each digit separately starting with the left most digit and skipping any digit with a value of zero. In Roman numerals 1990 is rendered: 1000=M, 900=CM, 90=XC; resulting in MCMXC. 2008 is written as 2000=MM, 8=VIII; or MMVIII. 1666 uses each Roman symbol in descending order: MDCLXVI.\n",
    "\n",
    "Example:\n",
    "\n",
    "solution(1000) # should return 'M'\n",
    "Help:\n",
    "\n",
    "Symbol    Value\n",
    "I          1\n",
    "V          5\n",
    "X          10\n",
    "L          50\n",
    "C          100\n",
    "D          500\n",
    "M          1,000\n",
    "Remember that there can't be more than 3 identical symbols in a row."
   ]
  },
  {
   "cell_type": "code",
   "execution_count": 1,
   "metadata": {},
   "outputs": [],
   "source": [
    "roman_dict = {\n",
    "    'I':1,\n",
    "    'IV':4,\n",
    "    'V':5,\n",
    "    'IX':9,\n",
    "    'X':10,\n",
    "    'XL':40,\n",
    "    'L':50,\n",
    "    'XC':90,\n",
    "    'C':100,\n",
    "    'CD':400,\n",
    "    'D':500,\n",
    "    'CM':900,\n",
    "    'M':1000}\n",
    "\n",
    "def solution(n):\n",
    "    # TODO convert int to roman string\n",
    "    #Confirm valid input\n",
    "    if not isinstance(n,int) or n < 1 or n > 3999:\n",
    "        return \"Invalid input\"\n",
    "    \n",
    "    result = \"\"\n",
    "    \n",
    "    # Loop through the dictionary of Roman numerals in descending order of value\n",
    "    for roman, value in reversed(roman_dict.items()):\n",
    "        while n >= value:\n",
    "            result += roman\n",
    "            n -= value\n",
    "    \n",
    "    return result"
   ]
  },
  {
   "cell_type": "code",
   "execution_count": 3,
   "metadata": {},
   "outputs": [
    {
     "data": {
      "text/plain": [
       "'XXX'"
      ]
     },
     "execution_count": 3,
     "metadata": {},
     "output_type": "execute_result"
    }
   ],
   "source": [
    "solution(30)"
   ]
  },
  {
   "cell_type": "code",
   "execution_count": null,
   "metadata": {},
   "outputs": [],
   "source": []
  }
 ],
 "metadata": {
  "kernelspec": {
   "display_name": "base",
   "language": "python",
   "name": "python3"
  },
  "language_info": {
   "codemirror_mode": {
    "name": "ipython",
    "version": 3
   },
   "file_extension": ".py",
   "mimetype": "text/x-python",
   "name": "python",
   "nbconvert_exporter": "python",
   "pygments_lexer": "ipython3",
   "version": "3.11.7"
  }
 },
 "nbformat": 4,
 "nbformat_minor": 2
}
