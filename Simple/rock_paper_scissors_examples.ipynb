{
 "cells": [
  {
   "cell_type": "markdown",
   "metadata": {},
   "source": [
    "## Rock, Paper, Scissors Examples"
   ]
  },
  {
   "cell_type": "markdown",
   "metadata": {},
   "source": [
    "This is the first example I tried which mapped out all the possible options"
   ]
  },
  {
   "cell_type": "code",
   "execution_count": 1,
   "metadata": {},
   "outputs": [],
   "source": [
    "def rps(p1, p2):\n",
    "    if p1 == 'scissors' and p2 == 'paper':\n",
    "        return \"Player 1 won!\"\n",
    "    elif p1 == 'scissors' and p2 =='rock':\n",
    "        return \"Player 2 won!\"\n",
    "    elif p1 == 'rock' and p2 == 'paper':\n",
    "        return \"Player 2 won!\"\n",
    "    elif p1 == 'rock' and p2 == 'scissors':\n",
    "        return \"Player 1 won!\"\n",
    "    elif p1 == 'paper' and p2 == 'rock':\n",
    "        return \"Player 1 won!\"\n",
    "    elif p1 == 'paper' and p2 == 'scissors':\n",
    "        return \"Player 2 won!\"\n",
    "    else :\n",
    "        return \"Draw!\""
   ]
  },
  {
   "cell_type": "markdown",
   "metadata": {},
   "source": [
    "Below is another piece of code which I find intersting. It maps all the possible win scenarios into a dictionary and then calls the location and then checks to see if they are equal."
   ]
  },
  {
   "cell_type": "code",
   "execution_count": 2,
   "metadata": {},
   "outputs": [],
   "source": [
    "def rps(p1, p2):\n",
    "    beats = {'rock': 'scissors', 'scissors': 'paper', 'paper': 'rock'}\n",
    "    if beats[p1] == p2:\n",
    "        return \"Player 1 won!\"\n",
    "    if beats[p2] == p1:\n",
    "        return \"Player 2 won!\"\n",
    "    return \"Draw!\""
   ]
  },
  {
   "cell_type": "code",
   "execution_count": null,
   "metadata": {},
   "outputs": [],
   "source": []
  }
 ],
 "metadata": {
  "kernelspec": {
   "display_name": "base",
   "language": "python",
   "name": "python3"
  },
  "language_info": {
   "codemirror_mode": {
    "name": "ipython",
    "version": 3
   },
   "file_extension": ".py",
   "mimetype": "text/x-python",
   "name": "python",
   "nbconvert_exporter": "python",
   "pygments_lexer": "ipython3",
   "version": "3.11.7"
  }
 },
 "nbformat": 4,
 "nbformat_minor": 2
}
