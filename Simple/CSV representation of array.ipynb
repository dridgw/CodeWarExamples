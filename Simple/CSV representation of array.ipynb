{
 "cells": [
  {
   "cell_type": "markdown",
   "metadata": {},
   "source": [
    "### Create a function that returns the CSV representation of a two-dimensional numeric array\n",
    "\n",
    "The first example is my own which prints a csv file.\n",
    "\n",
    "However, the example online does not allow me to write to csv this way, so I could not use pandas. Better explanation below on how another piece of code works."
   ]
  },
  {
   "cell_type": "code",
   "execution_count": 8,
   "metadata": {},
   "outputs": [],
   "source": [
    "array = [[0,1,2],[3,4,5],[6,7,8]] # Test array\n",
    "import pandas as pd # import pandas\n",
    "\n",
    "def to_csv_text(array):\n",
    "    df = pd.DataFrame(array) # change the array into a dataframe\n",
    "\n",
    "    df.to_csv('array_to_csv.csv',index=False, header=False) # create a csv with no index row and no headers\n",
    "    pass\n",
    "\n",
    "to_csv_text(array) # Run the function\n",
    "\n"
   ]
  },
  {
   "cell_type": "markdown",
   "metadata": {},
   "source": [
    "The below code was taken from a solution on Codewars. It does not print to a csv, but creates a csv representation\n",
    "\n",
    "The ```.join()``` method is a string method that concatenates all the elements of an iterable into a single string, separated by a specified separator\n",
    "\n",
    "The outer join is used to add the '\\n' which creates a new line in a string. The inner join adds a ',' between each of the elements in the array.\n",
    "\n",
    "Example of how the map works. \n",
    "For each line, 1st being [0,1,2] the map() function will convert the list in the array to a string, then the .join function will add the ',' "
   ]
  },
  {
   "cell_type": "code",
   "execution_count": 12,
   "metadata": {},
   "outputs": [
    {
     "name": "stdout",
     "output_type": "stream",
     "text": [
      "0,1,2\n",
      "3,4,5\n",
      "6,7,8\n"
     ]
    }
   ],
   "source": [
    "def text(array):\n",
    "    return '\\n'.join(','.join(map(str,line))for line in array)\n",
    "\n",
    "print(text(array))"
   ]
  },
  {
   "cell_type": "code",
   "execution_count": null,
   "metadata": {},
   "outputs": [],
   "source": []
  }
 ],
 "metadata": {
  "kernelspec": {
   "display_name": "base",
   "language": "python",
   "name": "python3"
  },
  "language_info": {
   "codemirror_mode": {
    "name": "ipython",
    "version": 3
   },
   "file_extension": ".py",
   "mimetype": "text/x-python",
   "name": "python",
   "nbconvert_exporter": "python",
   "pygments_lexer": "ipython3",
   "version": "3.11.5"
  }
 },
 "nbformat": 4,
 "nbformat_minor": 2
}
