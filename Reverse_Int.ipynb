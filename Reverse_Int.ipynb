{
 "cells": [
  {
   "cell_type": "markdown",
   "metadata": {},
   "source": [
    "## Covert number to reversed array of digits\n",
    "\n",
    "Given a random non-negative number, you have to return the digits of this number within an array in reverse order\n",
    "\n",
    "```python\n",
    "35231 => [1,3,2,5,3]\n",
    "0 => [0]\n",
    "```"
   ]
  },
  {
   "cell_type": "code",
   "execution_count": 3,
   "metadata": {},
   "outputs": [],
   "source": [
    "# I am using a random generator for the random integer\n",
    "import random"
   ]
  },
  {
   "cell_type": "markdown",
   "metadata": {},
   "source": [
    "I first created my own piece of code from my own research which I used below. This was successful in all the tests given."
   ]
  },
  {
   "cell_type": "code",
   "execution_count": 7,
   "metadata": {},
   "outputs": [
    {
     "name": "stdout",
     "output_type": "stream",
     "text": [
      "This is the random integer:  43182\n",
      "This is the list in reverse:  [2, 8, 1, 3, 4]\n"
     ]
    },
    {
     "data": {
      "text/plain": [
       "[2, 8, 1, 3, 4]"
      ]
     },
     "execution_count": 7,
     "metadata": {},
     "output_type": "execute_result"
    }
   ],
   "source": [
    "\n",
    "\n",
    "\n",
    "p=random.randint(0,99999) # Generate a random integer \n",
    "\n",
    "\n",
    "\n",
    "def digitize(p):\n",
    "    the_list=list(map(int,str(p))) # Converts to string / map executes the int function to each item in the string / list() creates a list object\n",
    "    the_list.reverse() # Reverses the order of the list\n",
    "    print(\"This is the random integer: \", p)\n",
    "    print(\"This is the list in reverse: \", the_list)\n",
    "    return the_list\n",
    "\n",
    "digitize(p)"
   ]
  },
  {
   "cell_type": "markdown",
   "metadata": {},
   "source": [
    "I have copied code from other users solutions"
   ]
  },
  {
   "cell_type": "code",
   "execution_count": 8,
   "metadata": {},
   "outputs": [
    {
     "data": {
      "text/plain": [
       "[2, 8, 1, 3, 4]"
      ]
     },
     "execution_count": 8,
     "metadata": {},
     "output_type": "execute_result"
    }
   ],
   "source": [
    "def digitize1(p):\n",
    "    return [int(x) for x in str(p)[::-1]] # [::-1] Means to start at the end, counting down by 1. The for loop then coverts each to int\n",
    "\n",
    "digitize1(p)"
   ]
  },
  {
   "cell_type": "code",
   "execution_count": null,
   "metadata": {},
   "outputs": [],
   "source": []
  }
 ],
 "metadata": {
  "kernelspec": {
   "display_name": "base",
   "language": "python",
   "name": "python3"
  },
  "language_info": {
   "codemirror_mode": {
    "name": "ipython",
    "version": 3
   },
   "file_extension": ".py",
   "mimetype": "text/x-python",
   "name": "python",
   "nbconvert_exporter": "python",
   "pygments_lexer": "ipython3",
   "version": "3.11.5"
  }
 },
 "nbformat": 4,
 "nbformat_minor": 2
}
